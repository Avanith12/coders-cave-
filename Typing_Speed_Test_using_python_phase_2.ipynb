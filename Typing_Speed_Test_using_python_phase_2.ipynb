{
  "nbformat": 4,
  "nbformat_minor": 0,
  "metadata": {
    "colab": {
      "provenance": [],
      "authorship_tag": "ABX9TyPbCdVXLq35fzCgWGu1hc1Y",
      "include_colab_link": true
    },
    "kernelspec": {
      "name": "python3",
      "display_name": "Python 3"
    },
    "language_info": {
      "name": "python"
    }
  },
  "cells": [
    {
      "cell_type": "markdown",
      "metadata": {
        "id": "view-in-github",
        "colab_type": "text"
      },
      "source": [
        "<a href=\"https://colab.research.google.com/github/Avanith12/coders-cave-/blob/main/Typing_Speed_Test_using_python_phase_2.ipynb\" target=\"_parent\"><img src=\"https://colab.research.google.com/assets/colab-badge.svg\" alt=\"Open In Colab\"/></a>"
      ]
    },
    {
      "cell_type": "code",
      "execution_count": 2,
      "metadata": {
        "colab": {
          "base_uri": "https://localhost:8080/"
        },
        "id": "EH-jn3O36rgl",
        "outputId": "70ed3f22-6554-4b2e-956c-8f61a8e9729e"
      },
      "outputs": [
        {
          "output_type": "stream",
          "name": "stdout",
          "text": [
            "Type the following text:\n",
            "The quick brown fox jumps over the lazy dog\n",
            "Start typing: the quick brown fox jumps over the lazy dog\n",
            "\n",
            "Time taken: 105.51 seconds\n",
            "Your typing speed: 5 words per minute\n"
          ]
        }
      ],
      "source": [
        "  import time\n",
        "\n",
        "def typing_speed_test():\n",
        "    text = \"The quick brown fox jumps over the lazy dog\"\n",
        "    print(\"Type the following text:\")\n",
        "    print(text)\n",
        "\n",
        "    input(\"Press Enter when you're ready to start...\")\n",
        "    start_time = time.time()\n",
        "\n",
        "    user_input = input(\"Start typing: \")\n",
        "    end_time = time.time()\n",
        "\n",
        "    elapsed_time = end_time - start_time\n",
        "    words_per_minute = len(text.split()) / (elapsed_time / 60)\n",
        "\n",
        "    print(\"\\nTime taken:\", round(elapsed_time, 2), \"seconds\")\n",
        "    print(\"Your typing speed:\", round(words_per_minute), \"words per minute\")\n",
        "\n",
        "typing_speed_test()\n"
      ]
    }
  ]
}